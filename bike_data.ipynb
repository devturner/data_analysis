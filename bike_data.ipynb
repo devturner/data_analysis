{
 "cells": [
  {
   "cell_type": "markdown",
   "metadata": {},
   "source": [
    "# Data Analysis: Bike Share Data\n",
    "## Chris Turner - Aug 30, 2018"
   ]
  },
  {
   "cell_type": "code",
   "execution_count": 1,
   "metadata": {},
   "outputs": [],
   "source": [
    "import csv\n",
    "import pandas as pd\n",
    "import numpy as np\n",
    "import datetime as dt"
   ]
  },
  {
   "cell_type": "code",
   "execution_count": 2,
   "metadata": {},
   "outputs": [
    {
     "name": "stderr",
     "output_type": "stream",
     "text": [
      "b'Skipping line 50794: expected 12 fields, saw 20\\n'\n"
     ]
    }
   ],
   "source": [
    "st = pd.read_csv('./assets/cycle-share-dataset/station.csv')\n",
    "tr = pd.read_csv('./assets/cycle-share-dataset/trip.csv', error_bad_lines=False)\n",
    "we = pd.read_csv('./assets/cycle-share-dataset/weather.csv')"
   ]
  },
  {
   "cell_type": "markdown",
   "metadata": {},
   "source": [
    "## 1. What is the average trip duration for a borrowed bicycle?"
   ]
  },
  {
   "cell_type": "code",
   "execution_count": 3,
   "metadata": {},
   "outputs": [
    {
     "data": {
      "text/html": [
       "<div>\n",
       "<style scoped>\n",
       "    .dataframe tbody tr th:only-of-type {\n",
       "        vertical-align: middle;\n",
       "    }\n",
       "\n",
       "    .dataframe tbody tr th {\n",
       "        vertical-align: top;\n",
       "    }\n",
       "\n",
       "    .dataframe thead th {\n",
       "        text-align: right;\n",
       "    }\n",
       "</style>\n",
       "<table border=\"1\" class=\"dataframe\">\n",
       "  <thead>\n",
       "    <tr style=\"text-align: right;\">\n",
       "      <th></th>\n",
       "      <th>trip_id</th>\n",
       "      <th>starttime</th>\n",
       "      <th>stoptime</th>\n",
       "      <th>bikeid</th>\n",
       "      <th>tripduration</th>\n",
       "      <th>from_station_name</th>\n",
       "      <th>to_station_name</th>\n",
       "      <th>from_station_id</th>\n",
       "      <th>to_station_id</th>\n",
       "      <th>usertype</th>\n",
       "      <th>gender</th>\n",
       "      <th>birthyear</th>\n",
       "    </tr>\n",
       "  </thead>\n",
       "  <tbody>\n",
       "    <tr>\n",
       "      <th>0</th>\n",
       "      <td>431</td>\n",
       "      <td>10/13/2014 10:31</td>\n",
       "      <td>10/13/2014 10:48</td>\n",
       "      <td>SEA00298</td>\n",
       "      <td>985.935</td>\n",
       "      <td>2nd Ave &amp; Spring St</td>\n",
       "      <td>Occidental Park / Occidental Ave S &amp; S Washing...</td>\n",
       "      <td>CBD-06</td>\n",
       "      <td>PS-04</td>\n",
       "      <td>Member</td>\n",
       "      <td>Male</td>\n",
       "      <td>1960.0</td>\n",
       "    </tr>\n",
       "    <tr>\n",
       "      <th>1</th>\n",
       "      <td>432</td>\n",
       "      <td>10/13/2014 10:32</td>\n",
       "      <td>10/13/2014 10:48</td>\n",
       "      <td>SEA00195</td>\n",
       "      <td>926.375</td>\n",
       "      <td>2nd Ave &amp; Spring St</td>\n",
       "      <td>Occidental Park / Occidental Ave S &amp; S Washing...</td>\n",
       "      <td>CBD-06</td>\n",
       "      <td>PS-04</td>\n",
       "      <td>Member</td>\n",
       "      <td>Male</td>\n",
       "      <td>1970.0</td>\n",
       "    </tr>\n",
       "    <tr>\n",
       "      <th>2</th>\n",
       "      <td>433</td>\n",
       "      <td>10/13/2014 10:33</td>\n",
       "      <td>10/13/2014 10:48</td>\n",
       "      <td>SEA00486</td>\n",
       "      <td>883.831</td>\n",
       "      <td>2nd Ave &amp; Spring St</td>\n",
       "      <td>Occidental Park / Occidental Ave S &amp; S Washing...</td>\n",
       "      <td>CBD-06</td>\n",
       "      <td>PS-04</td>\n",
       "      <td>Member</td>\n",
       "      <td>Female</td>\n",
       "      <td>1988.0</td>\n",
       "    </tr>\n",
       "    <tr>\n",
       "      <th>3</th>\n",
       "      <td>434</td>\n",
       "      <td>10/13/2014 10:34</td>\n",
       "      <td>10/13/2014 10:48</td>\n",
       "      <td>SEA00333</td>\n",
       "      <td>865.937</td>\n",
       "      <td>2nd Ave &amp; Spring St</td>\n",
       "      <td>Occidental Park / Occidental Ave S &amp; S Washing...</td>\n",
       "      <td>CBD-06</td>\n",
       "      <td>PS-04</td>\n",
       "      <td>Member</td>\n",
       "      <td>Female</td>\n",
       "      <td>1977.0</td>\n",
       "    </tr>\n",
       "    <tr>\n",
       "      <th>4</th>\n",
       "      <td>435</td>\n",
       "      <td>10/13/2014 10:34</td>\n",
       "      <td>10/13/2014 10:49</td>\n",
       "      <td>SEA00202</td>\n",
       "      <td>923.923</td>\n",
       "      <td>2nd Ave &amp; Spring St</td>\n",
       "      <td>Occidental Park / Occidental Ave S &amp; S Washing...</td>\n",
       "      <td>CBD-06</td>\n",
       "      <td>PS-04</td>\n",
       "      <td>Member</td>\n",
       "      <td>Male</td>\n",
       "      <td>1971.0</td>\n",
       "    </tr>\n",
       "  </tbody>\n",
       "</table>\n",
       "</div>"
      ],
      "text/plain": [
       "   trip_id         starttime          stoptime    bikeid  tripduration  \\\n",
       "0      431  10/13/2014 10:31  10/13/2014 10:48  SEA00298       985.935   \n",
       "1      432  10/13/2014 10:32  10/13/2014 10:48  SEA00195       926.375   \n",
       "2      433  10/13/2014 10:33  10/13/2014 10:48  SEA00486       883.831   \n",
       "3      434  10/13/2014 10:34  10/13/2014 10:48  SEA00333       865.937   \n",
       "4      435  10/13/2014 10:34  10/13/2014 10:49  SEA00202       923.923   \n",
       "\n",
       "     from_station_name                                    to_station_name  \\\n",
       "0  2nd Ave & Spring St  Occidental Park / Occidental Ave S & S Washing...   \n",
       "1  2nd Ave & Spring St  Occidental Park / Occidental Ave S & S Washing...   \n",
       "2  2nd Ave & Spring St  Occidental Park / Occidental Ave S & S Washing...   \n",
       "3  2nd Ave & Spring St  Occidental Park / Occidental Ave S & S Washing...   \n",
       "4  2nd Ave & Spring St  Occidental Park / Occidental Ave S & S Washing...   \n",
       "\n",
       "  from_station_id to_station_id usertype  gender  birthyear  \n",
       "0          CBD-06         PS-04   Member    Male     1960.0  \n",
       "1          CBD-06         PS-04   Member    Male     1970.0  \n",
       "2          CBD-06         PS-04   Member  Female     1988.0  \n",
       "3          CBD-06         PS-04   Member  Female     1977.0  \n",
       "4          CBD-06         PS-04   Member    Male     1971.0  "
      ]
     },
     "execution_count": 3,
     "metadata": {},
     "output_type": "execute_result"
    }
   ],
   "source": [
    "tr.head()"
   ]
  },
  {
   "cell_type": "code",
   "execution_count": 4,
   "metadata": {},
   "outputs": [],
   "source": [
    "trip_mean = tr.tripduration.mean()"
   ]
  },
  {
   "cell_type": "markdown",
   "metadata": {},
   "source": [
    "### 1178.2956753399776\n",
    "##  2. What’s the most common age of a bicycle-sharer?\n"
   ]
  },
  {
   "cell_type": "code",
   "execution_count": 5,
   "metadata": {},
   "outputs": [],
   "source": [
    "mode_year = tr.birthyear.mode()\n",
    "current_year = dt.date.today().year\n",
    "age = current_year - mode_year"
   ]
  },
  {
   "cell_type": "markdown",
   "metadata": {},
   "source": [
    "### 31\n",
    "\n",
    "## 3. Given all the weather data here, find the average precipitation per month, and the median precipitation"
   ]
  },
  {
   "cell_type": "code",
   "execution_count": 40,
   "metadata": {},
   "outputs": [],
   "source": [
    "# we = pd.read_csv('./assets/cycle-share-dataset/weather.csv')\n",
    "we.Date = pd.to_datetime(we.Date)\n",
    "# we.stoptime = pd.to_datetime(we.stoptime)\n",
    "\n",
    "# we[['DAY''DAY']]  ==  we.Date.applyapply((we.datetimedatetim.isoweekday)\n",
    "we['Day_of_week'] = we.Date.dt.weekday_name\n",
    "we['Month'] = we.Date.dt.month\n",
    "we['Year'] = we.Date.dt.year\n"
   ]
  },
  {
   "cell_type": "code",
   "execution_count": 39,
   "metadata": {},
   "outputs": [
    {
     "name": "stdout",
     "output_type": "stream",
     "text": [
      "mean per month:\n",
      "Month\n",
      "1     0.143548\n",
      "2     0.168421\n",
      "3     0.156935\n",
      "4     0.051333\n",
      "5     0.012419\n",
      "6     0.030500\n",
      "7     0.012097\n",
      "8     0.018226\n",
      "9     0.041000\n",
      "10    0.189000\n",
      "11    0.187833\n",
      "12    0.236290\n",
      "Name: Precipitation_In, dtype: float64\n",
      "median:\n",
      "0.09744086021505376\n"
     ]
    }
   ],
   "source": [
    "print('mean per month:')\n",
    "print(we.groupby('Month')['Precipitation_In'].mean())\n",
    "\n",
    "print('median:')\n",
    "print(we.groupby('Month')['Precipitation_In'].mean().median())\n"
   ]
  },
  {
   "cell_type": "markdown",
   "metadata": {},
   "source": [
    "## 4. What’s the average number of bikes at a given bike station?"
   ]
  },
  {
   "cell_type": "code",
   "execution_count": 33,
   "metadata": {},
   "outputs": [
    {
     "data": {
      "text/html": [
       "<div>\n",
       "<style scoped>\n",
       "    .dataframe tbody tr th:only-of-type {\n",
       "        vertical-align: middle;\n",
       "    }\n",
       "\n",
       "    .dataframe tbody tr th {\n",
       "        vertical-align: top;\n",
       "    }\n",
       "\n",
       "    .dataframe thead th {\n",
       "        text-align: right;\n",
       "    }\n",
       "</style>\n",
       "<table border=\"1\" class=\"dataframe\">\n",
       "  <thead>\n",
       "    <tr style=\"text-align: right;\">\n",
       "      <th></th>\n",
       "      <th>station_id</th>\n",
       "      <th>name</th>\n",
       "      <th>lat</th>\n",
       "      <th>long</th>\n",
       "      <th>install_date</th>\n",
       "      <th>install_dockcount</th>\n",
       "      <th>modification_date</th>\n",
       "      <th>current_dockcount</th>\n",
       "      <th>decommission_date</th>\n",
       "    </tr>\n",
       "  </thead>\n",
       "  <tbody>\n",
       "    <tr>\n",
       "      <th>0</th>\n",
       "      <td>BT-01</td>\n",
       "      <td>3rd Ave &amp; Broad St</td>\n",
       "      <td>47.618418</td>\n",
       "      <td>-122.350964</td>\n",
       "      <td>10/13/2014</td>\n",
       "      <td>18</td>\n",
       "      <td>NaN</td>\n",
       "      <td>18</td>\n",
       "      <td>NaN</td>\n",
       "    </tr>\n",
       "    <tr>\n",
       "      <th>1</th>\n",
       "      <td>BT-03</td>\n",
       "      <td>2nd Ave &amp; Vine St</td>\n",
       "      <td>47.615829</td>\n",
       "      <td>-122.348564</td>\n",
       "      <td>10/13/2014</td>\n",
       "      <td>16</td>\n",
       "      <td>NaN</td>\n",
       "      <td>16</td>\n",
       "      <td>NaN</td>\n",
       "    </tr>\n",
       "    <tr>\n",
       "      <th>2</th>\n",
       "      <td>BT-04</td>\n",
       "      <td>6th Ave &amp; Blanchard St</td>\n",
       "      <td>47.616094</td>\n",
       "      <td>-122.341102</td>\n",
       "      <td>10/13/2014</td>\n",
       "      <td>16</td>\n",
       "      <td>NaN</td>\n",
       "      <td>16</td>\n",
       "      <td>NaN</td>\n",
       "    </tr>\n",
       "    <tr>\n",
       "      <th>3</th>\n",
       "      <td>BT-05</td>\n",
       "      <td>2nd Ave &amp; Blanchard St</td>\n",
       "      <td>47.613110</td>\n",
       "      <td>-122.344208</td>\n",
       "      <td>10/13/2014</td>\n",
       "      <td>14</td>\n",
       "      <td>NaN</td>\n",
       "      <td>14</td>\n",
       "      <td>NaN</td>\n",
       "    </tr>\n",
       "    <tr>\n",
       "      <th>4</th>\n",
       "      <td>CBD-03</td>\n",
       "      <td>7th Ave &amp; Union St</td>\n",
       "      <td>47.610731</td>\n",
       "      <td>-122.332447</td>\n",
       "      <td>10/13/2014</td>\n",
       "      <td>20</td>\n",
       "      <td>NaN</td>\n",
       "      <td>20</td>\n",
       "      <td>NaN</td>\n",
       "    </tr>\n",
       "  </tbody>\n",
       "</table>\n",
       "</div>"
      ],
      "text/plain": [
       "  station_id                    name        lat        long install_date  \\\n",
       "0      BT-01      3rd Ave & Broad St  47.618418 -122.350964   10/13/2014   \n",
       "1      BT-03       2nd Ave & Vine St  47.615829 -122.348564   10/13/2014   \n",
       "2      BT-04  6th Ave & Blanchard St  47.616094 -122.341102   10/13/2014   \n",
       "3      BT-05  2nd Ave & Blanchard St  47.613110 -122.344208   10/13/2014   \n",
       "4     CBD-03      7th Ave & Union St  47.610731 -122.332447   10/13/2014   \n",
       "\n",
       "   install_dockcount modification_date  current_dockcount decommission_date  \n",
       "0                 18               NaN                 18               NaN  \n",
       "1                 16               NaN                 16               NaN  \n",
       "2                 16               NaN                 16               NaN  \n",
       "3                 14               NaN                 14               NaN  \n",
       "4                 20               NaN                 20               NaN  "
      ]
     },
     "execution_count": 33,
     "metadata": {},
     "output_type": "execute_result"
    }
   ],
   "source": [
    "st.head()"
   ]
  },
  {
   "cell_type": "code",
   "execution_count": 32,
   "metadata": {},
   "outputs": [
    {
     "data": {
      "text/plain": [
       "17.586206896551722"
      ]
     },
     "execution_count": 32,
     "metadata": {},
     "output_type": "execute_result"
    }
   ],
   "source": [
    "st['install_dockcount'].mean()"
   ]
  },
  {
   "cell_type": "markdown",
   "metadata": {},
   "source": [
    "### 17.586206896551722\n",
    "\n",
    "## 5. When a bike station is modified, is it more likely that it’ll lose bikes or gain bikes? How do you know?"
   ]
  },
  {
   "cell_type": "markdown",
   "metadata": {},
   "source": [
    "### Not enough information.  The current dockcount and istall dockcount do not work in that way."
   ]
  },
  {
   "cell_type": "markdown",
   "metadata": {},
   "source": [
    "## Come up with 3 more questions that can be answered with this data set.\n",
    "\n",
    "## 1. Compair the average rain per month against average rides per month, is there a corellation? \n",
    "\n",
    "\n",
    "## 2. What is the busiest bike share month, least busy? \n",
    "\n",
    "\n",
    "## 3. What is the peek bike share ride time of day? "
   ]
  },
  {
   "cell_type": "code",
   "execution_count": null,
   "metadata": {},
   "outputs": [],
   "source": []
  }
 ],
 "metadata": {
  "kernelspec": {
   "display_name": "Python 3",
   "language": "python",
   "name": "python3"
  },
  "language_info": {
   "codemirror_mode": {
    "name": "ipython",
    "version": 3
   },
   "file_extension": ".py",
   "mimetype": "text/x-python",
   "name": "python",
   "nbconvert_exporter": "python",
   "pygments_lexer": "ipython3",
   "version": "3.7.0"
  }
 },
 "nbformat": 4,
 "nbformat_minor": 2
}
